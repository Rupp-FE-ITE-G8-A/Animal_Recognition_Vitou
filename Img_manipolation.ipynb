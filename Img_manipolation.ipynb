{
 "cells": [
  {
   "cell_type": "code",
   "execution_count": 4,
   "metadata": {},
   "outputs": [
    {
     "data": {
      "text/plain": [
       "True"
      ]
     },
     "execution_count": 4,
     "metadata": {},
     "output_type": "execute_result"
    }
   ],
   "source": [
    "import cv2\n",
    "import numpy as np\n",
    "\n",
    "# Read the input image\n",
    "img = cv2.imread(\"./dataset/train2/dogs/0.jpg\")\n",
    "\n",
    "# Apply a filter to the image\n",
    "kernel = np.ones((3, 3), np.float32) / 9\n",
    "filtered = cv2.filter2D(img, 0, kernel)\n",
    "\n",
    "# Save the filtered image\n",
    "cv2.imwrite('./Test_Image/output.jpg', filtered)\n",
    "cv2.imwrite('./Test_Image/input.jpg', img)"
   ]
  },
  {
   "cell_type": "code",
   "execution_count": null,
   "metadata": {},
   "outputs": [],
   "source": []
  }
 ],
 "metadata": {
  "kernelspec": {
   "display_name": "Python 3",
   "language": "python",
   "name": "python3"
  },
  "language_info": {
   "codemirror_mode": {
    "name": "ipython",
    "version": 3
   },
   "file_extension": ".py",
   "mimetype": "text/x-python",
   "name": "python",
   "nbconvert_exporter": "python",
   "pygments_lexer": "ipython3",
   "version": "3.11.4"
  },
  "orig_nbformat": 4
 },
 "nbformat": 4,
 "nbformat_minor": 2
}
